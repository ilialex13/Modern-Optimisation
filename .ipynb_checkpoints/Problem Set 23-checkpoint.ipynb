{
 "cells": [
  {
   "cell_type": "code",
   "execution_count": 1,
   "id": "ab257dd8-2379-4e1f-aade-fb4a7b48f82a",
   "metadata": {},
   "outputs": [],
   "source": [
    "import numpy as np\n",
    "import pandas as pd\n",
    "import matplotlib.pyplot as plt"
   ]
  },
  {
   "cell_type": "code",
   "execution_count": 6,
   "id": "5309abd2-9afa-4f72-ac38-26ec79b9f3a1",
   "metadata": {},
   "outputs": [],
   "source": [
    "def proj_l1_ball(v, t):\n",
    "    if t <= 0:\n",
    "        return \"t must be greater than 0\"\n",
    "\n",
    "    if np.linalg.norm(v, 1) <= t:\n",
    "        return v\n",
    "\n",
    "    # create u\n",
    "    u = abs(v)\n",
    "\n",
    "    # create mu\n",
    "    mu = np.sort(u)[::-1]\n",
    "    \n",
    "    # find rho\n",
    "    rho = 0\n",
    "    for j in range(0, len(u)):\n",
    "        if mu[j] - (np.sum(mu[:j+1]) - t)/(j+1) <= 0:\n",
    "            break\n",
    "        rho+=1\n",
    "\n",
    "    # find theta\n",
    "    theta = (np.sum(mu[:rho]) - t)/rho\n",
    "    \n",
    "    #output w\n",
    "    w = np.sign(v) * np.where(u - theta < 0, 0, u - theta)\n",
    "    return w"
   ]
  },
  {
   "cell_type": "code",
   "execution_count": 7,
   "id": "76511fc3-0ba1-4193-a490-c4d025c77afa",
   "metadata": {},
   "outputs": [
    {
     "data": {
      "text/plain": [
       "array([-2., -2.])"
      ]
     },
     "execution_count": 7,
     "metadata": {},
     "output_type": "execute_result"
    }
   ],
   "source": [
    "v = np.array([-5, -5])\n",
    "t = 4\n",
    "w = proj_l1_ball(v, t)\n",
    "w"
   ]
  },
  {
   "cell_type": "code",
   "execution_count": 8,
   "id": "36947b46-2d45-4a7f-9ba7-e2be03437940",
   "metadata": {},
   "outputs": [
    {
     "data": {
      "text/plain": [
       "array([-7.,  0.])"
      ]
     },
     "execution_count": 8,
     "metadata": {},
     "output_type": "execute_result"
    }
   ],
   "source": [
    "v = np.array([-200, 10])\n",
    "t = 7\n",
    "w = proj_l1_ball(v, t)\n",
    "w"
   ]
  },
  {
   "cell_type": "code",
   "execution_count": 9,
   "id": "dc2e15af-1196-48c1-82fa-746ae6e09ddf",
   "metadata": {},
   "outputs": [
    {
     "data": {
      "text/plain": [
       "array([0., 2.])"
      ]
     },
     "execution_count": 9,
     "metadata": {},
     "output_type": "execute_result"
    }
   ],
   "source": [
    "v = np.array([-0, 21])\n",
    "t = 2\n",
    "w = proj_l1_ball(v, t)\n",
    "w"
   ]
  },
  {
   "cell_type": "code",
   "execution_count": null,
   "id": "0cf551bd-0d16-40f5-966f-bf4b26e491f8",
   "metadata": {},
   "outputs": [],
   "source": []
  }
 ],
 "metadata": {
  "kernelspec": {
   "display_name": "Python 3 (ipykernel)",
   "language": "python",
   "name": "python3"
  },
  "language_info": {
   "codemirror_mode": {
    "name": "ipython",
    "version": 3
   },
   "file_extension": ".py",
   "mimetype": "text/x-python",
   "name": "python",
   "nbconvert_exporter": "python",
   "pygments_lexer": "ipython3",
   "version": "3.12.3"
  }
 },
 "nbformat": 4,
 "nbformat_minor": 5
}
